{
  "nbformat": 4,
  "nbformat_minor": 0,
  "metadata": {
    "colab": {
      "provenance": [],
      "authorship_tag": "ABX9TyOLClPkHES9cQYWcvEtE/wh",
      "include_colab_link": true
    },
    "kernelspec": {
      "name": "python3",
      "display_name": "Python 3"
    },
    "language_info": {
      "name": "python"
    }
  },
  "cells": [
    {
      "cell_type": "markdown",
      "metadata": {
        "id": "view-in-github",
        "colab_type": "text"
      },
      "source": [
        "<a href=\"https://colab.research.google.com/github/MateoJaksic/Analiza-populacijskih-podataka/blob/main/analizapopulacijskihpodataka.ipynb\" target=\"_parent\"><img src=\"https://colab.research.google.com/assets/colab-badge.svg\" alt=\"Open In Colab\"/></a>"
      ]
    },
    {
      "cell_type": "markdown",
      "source": [
        "# Analiza populacijskih podataka\n",
        "\n",
        "Projekt se bavi analizom populacijskih podataka država u Europi. Analizira se broj stanovnika u razdoblju od 2012. do 2023. godine te se radi predikcija za naredne godine.\n",
        "\n",
        "Podaci su preuzeti s [Eurostata](https://ec.europa.eu/eurostat/databrowser/view/tps00001/default/table?lang=en&category=t_demo.t_demo_pop)."
      ],
      "metadata": {
        "id": "1SsYTFDT6kca"
      }
    },
    {
      "cell_type": "code",
      "execution_count": 1,
      "metadata": {
        "id": "sorVgoknxuhB"
      },
      "outputs": [],
      "source": [
        "import pandas as pd\n",
        "import matplotlib.pyplot as plt\n",
        "import numpy as np\n",
        "from tabulate import tabulate\n",
        "import torch\n",
        "import torch.nn as nn\n",
        "import torch.optim as optim"
      ]
    },
    {
      "cell_type": "markdown",
      "source": [
        "Dohvaćanje podataka."
      ],
      "metadata": {
        "id": "pbbFPnn2-YKH"
      }
    },
    {
      "cell_type": "code",
      "source": [
        "df = pd.read_csv('https://raw.githubusercontent.com/MateoJaksic/Analiza-populacijskih-podataka/main/podaci.csv?token=GHSAT0AAAAAACIKYZDSAPR22ADFAYMJXP7WZN4GL7A', delimiter=\",\")\n",
        "\n",
        "df = df.rename(columns={'geo': 'country_code'})\n",
        "df = df.rename(columns={'TIME_PERIOD': 'year'})"
      ],
      "metadata": {
        "id": "US8LevQ07ptu"
      },
      "execution_count": 8,
      "outputs": []
    },
    {
      "cell_type": "code",
      "source": [
        "df_code = pd.read_csv('https://raw.githubusercontent.com/MateoJaksic/Analiza-populacijskih-podataka/main/drzave.csv?token=GHSAT0AAAAAACIKYZDTEEXA3K7TJS6W5UR2ZN4G3AQ', delimiter=\",\")"
      ],
      "metadata": {
        "id": "WI7Iaa2U86mE"
      },
      "execution_count": 14,
      "outputs": []
    },
    {
      "cell_type": "markdown",
      "source": [
        "Za početak ćemo izračunati populaciju Europske Unije (EU) za 2023. godinu. To ćemo postići zbrajanjem populacija 27 država članica EU."
      ],
      "metadata": {
        "id": "ypvuiaVS-qLV"
      }
    },
    {
      "cell_type": "code",
      "source": [
        "clanice_eu = df_code[df_code['eu'] == '+']\n",
        "\n",
        "print(clanice_eu)"
      ],
      "metadata": {
        "colab": {
          "base_uri": "https://localhost:8080/"
        },
        "id": "IfMK1z9uAFKV",
        "outputId": "2736f7b1-723f-44fb-dfd3-461c7cf80b3f"
      },
      "execution_count": 41,
      "outputs": [
        {
          "output_type": "stream",
          "name": "stdout",
          "text": [
            "   country_code      country eu\n",
            "3            AT      Austria  +\n",
            "6            BE      Belgium  +\n",
            "7            BG     Bulgaria  +\n",
            "10           CY       Cyprus  +\n",
            "11           CZ      Czechia  +\n",
            "12           DE      Germany  +\n",
            "13           DK      Denmark  +\n",
            "14           EE      Estonia  +\n",
            "15           EL       Greece  +\n",
            "16           ES        Spain  +\n",
            "17           FI      Finland  +\n",
            "18           FR       France  +\n",
            "20           HR      Croatia  +\n",
            "21           HU      Hungary  +\n",
            "22           IE      Ireland  +\n",
            "24           IT        Italy  +\n",
            "26           LT    Lithuania  +\n",
            "27           LU   Luxembourg  +\n",
            "28           LV       Latvia  +\n",
            "34           NL  Netherlands  +\n",
            "36           PL       Poland  +\n",
            "37           PT     Portugal  +\n",
            "38           RO      Romania  +\n",
            "41           SE       Sweden  +\n",
            "42           SI     Slovenia  +\n",
            "43           SK     Slovakia  +\n"
          ]
        }
      ]
    },
    {
      "cell_type": "code",
      "source": [
        "# TODO - napravio sam popis država EU, sada treba povući podatke o populaciji za spomenute države i vizualno ih prikazati (ukupan broj kao tablica od jednog reda??, može tablica koliko koja država pridonosi u postotku ili stupčasti?? graf koliko koja članica ima stanovnika)"
      ],
      "metadata": {
        "id": "bJD_zP6uDh8T"
      },
      "execution_count": 43,
      "outputs": []
    }
  ]
}