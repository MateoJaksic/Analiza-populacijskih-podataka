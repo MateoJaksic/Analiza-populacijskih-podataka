{
  "nbformat": 4,
  "nbformat_minor": 0,
  "metadata": {
    "colab": {
      "provenance": [],
      "authorship_tag": "ABX9TyPptmvTJYsoWzfWAkNRucP6",
      "include_colab_link": true
    },
    "kernelspec": {
      "name": "python3",
      "display_name": "Python 3"
    },
    "language_info": {
      "name": "python"
    }
  },
  "cells": [
    {
      "cell_type": "markdown",
      "metadata": {
        "id": "view-in-github",
        "colab_type": "text"
      },
      "source": [
        "<a href=\"https://colab.research.google.com/github/MateoJaksic/Analiza-populacijskih-podataka/blob/main/analizapopulacijskihpodataka.ipynb\" target=\"_parent\"><img src=\"https://colab.research.google.com/assets/colab-badge.svg\" alt=\"Open In Colab\"/></a>"
      ]
    },
    {
      "cell_type": "markdown",
      "source": [
        "# Analiza populacijskih podataka\n",
        "\n",
        "Projekt se bavi analizom populacijskih podataka država u Europi. Analizira se broj stanovnika u razdoblju od 2012. do 2023. godine te se radi predikcija za naredne godine.\n",
        "\n",
        "Podaci su preuzeti s [Eurostata](https://ec.europa.eu/eurostat/databrowser/view/tps00001/default/table?lang=en&category=t_demo.t_demo_pop)."
      ],
      "metadata": {
        "id": "1SsYTFDT6kca"
      }
    },
    {
      "cell_type": "code",
      "execution_count": null,
      "metadata": {
        "id": "sorVgoknxuhB"
      },
      "outputs": [],
      "source": []
    }
  ]
}